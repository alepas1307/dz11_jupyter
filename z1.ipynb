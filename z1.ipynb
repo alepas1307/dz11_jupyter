{
 "cells": [
  {
   "cell_type": "code",
   "execution_count": 11,
   "metadata": {},
   "outputs": [
    {
     "data": {
      "image/png": "[encoded data removed]",
      "text/plain": [
       "<Figure size 640x480 with 1 Axes>"
      ]
     },
     "metadata": {},
     "output_type": "display_data"
    }
   ],
   "source": [
    "#f(x) = -12x^4*sin(cos(x)) - 18x^3+5x^2 + 10x - 30\n",
    "\n",
    " #Построить график\n",
    "\n",
    "from sympy import *\n",
    "# from sympy.abc import x, y, f, g\n",
    "# from sympy import Symbol, sin, cos\n",
    "\n",
    "from sympy.plotting import plot\n",
    "\n",
    "init_printing()\n",
    "\n",
    "x = Symbol('x')\n",
    "f = -12 * x ** 4 * sin (cos (x)) - 18 * x ** 3 + 5 * x**2 +10 * x -30\n",
    "a = plot(f, (x, -7.5, 5))"
   ]
  },
  {
   "cell_type": "code",
   "execution_count": 12,
   "metadata": {},
   "outputs": [
    {
     "data": {
      "text/latex": [
       "$\\displaystyle \\left\\{x\\; \\middle|\\; x \\in \\mathbb{C} \\wedge - 12 x^{4} \\sin{\\left(\\cos{\\left(x \\right)} \\right)} - 18 x^{3} + 5 x^{2} + 10 x - 30 = 0 \\right\\}$"
      ],
      "text/plain": [
       "⎧  │         ⎛      4                   3      2                ⎞⎫\n",
       "⎨x │ x ∊ ℂ ∧ ⎝- 12⋅x ⋅sin(cos(x)) - 18⋅x  + 5⋅x  + 10⋅x - 30 = 0⎠⎬\n",
       "⎩  │                                                             ⎭"
      ]
     },
     "execution_count": 12,
     "metadata": {},
     "output_type": "execute_result"
    }
   ],
   "source": [
    "#Определить корни\n",
    "\n",
    "solveset(f, x)"
   ]
  },
  {
   "cell_type": "code",
   "execution_count": 17,
   "metadata": {},
   "outputs": [
    {
     "ename": "TypeError",
     "evalue": "can only assign an iterable",
     "output_type": "error",
     "traceback": [
      "\u001b[1;31m---------------------------------------------------------------------------\u001b[0m",
      "\u001b[1;31mTypeError\u001b[0m                                 Traceback (most recent call last)",
      "Cell \u001b[1;32mIn[17], line 3\u001b[0m\n\u001b[0;32m      1\u001b[0m \u001b[39m#Найти интервалы\u001b[39;00m\n\u001b[0;32m      2\u001b[0m b \u001b[39m=\u001b[39m [\u001b[39m-\u001b[39moo, oo]\n\u001b[1;32m----> 3\u001b[0m b[\u001b[39m1\u001b[39;49m:\u001b[39m1\u001b[39;49m] \u001b[39m=\u001b[39m solveset(diff(f), x)\n",
      "\u001b[1;31mTypeError\u001b[0m: can only assign an iterable"
     ]
    }
   ],
   "source": [
    "#Найти интервалы\n",
    "\n",
    "b = [-oo, oo]\n",
    "b[1:1] = solveset(diff(f), x)"
   ]
  },
  {
   "cell_type": "code",
   "execution_count": 18,
   "metadata": {},
   "outputs": [
    {
     "name": "stdout",
     "output_type": "stream",
     "text": [
      "Возрастает в диапазоне []\n",
      "Убывает в диапазоне ['-oo oo']\n"
     ]
    }
   ],
   "source": [
    "# Найти интервалы, на которых функция возрастает\n",
    "# Найти интервалы, на которых функция убывает\n",
    "\n",
    "c = []\n",
    "d = []\n",
    "for i in range(1, len(b)):\n",
    "    boo = is_increasing(f, Interval.open(b[i-1], b[i]))\n",
    "    if boo:\n",
    "        c.append(f\"{b[i-1]} {b[i]}\")\n",
    "    else:\n",
    "        d.append(f\"{b[i-1]} {b[i]}\")\n",
    "print('Возрастает в диапазоне', c)\n",
    "print('Убывает в диапазоне', d)"
   ]
  },
  {
   "cell_type": "code",
   "execution_count": 19,
   "metadata": {},
   "outputs": [
    {
     "ename": "TypeError",
     "evalue": "'ConditionSet' object is not iterable",
     "output_type": "error",
     "traceback": [
      "\u001b[1;31m---------------------------------------------------------------------------\u001b[0m",
      "\u001b[1;31mTypeError\u001b[0m                                 Traceback (most recent call last)",
      "Cell \u001b[1;32mIn[19], line 4\u001b[0m\n\u001b[0;32m      1\u001b[0m \u001b[39m#Вычислить вершину\u001b[39;00m\n\u001b[0;32m      3\u001b[0m e \u001b[39m=\u001b[39m solveset(diff(f), x)\n\u001b[1;32m----> 4\u001b[0m \u001b[39mfor\u001b[39;00m i \u001b[39min\u001b[39;00m e:\n\u001b[0;32m      5\u001b[0m     g \u001b[39m=\u001b[39m f\u001b[39m.\u001b[39msubs(x, i)\n\u001b[0;32m      6\u001b[0m     \u001b[39mif\u001b[39;00m g \u001b[39m<\u001b[39m \u001b[39m0\u001b[39m:\n",
      "\u001b[1;31mTypeError\u001b[0m: 'ConditionSet' object is not iterable"
     ]
    }
   ],
   "source": [
    "#Вычислить вершину\n",
    "\n",
    "e = solveset(diff(f), x)\n",
    "for i in e:\n",
    "    g = f.subs(x, i)\n",
    "    if g < 0:\n",
    "        print(f'Нижний экстремум: x:{i} y:{g}')\n",
    "    elif g > 0:\n",
    "        print(f'Верхний экстремум: x:{i} y:{g}')\n",
    "a = plot(f, (x, -7, 4))"
   ]
  },
  {
   "cell_type": "code",
   "execution_count": 21,
   "metadata": {},
   "outputs": [
    {
     "ename": "TypeError",
     "evalue": "can only assign an iterable",
     "output_type": "error",
     "traceback": [
      "\u001b[1;31m---------------------------------------------------------------------------\u001b[0m",
      "\u001b[1;31mTypeError\u001b[0m                                 Traceback (most recent call last)",
      "Cell \u001b[1;32mIn[21], line 8\u001b[0m\n\u001b[0;32m      6\u001b[0m incr_list \u001b[39m=\u001b[39m []\n\u001b[0;32m      7\u001b[0m decr_list \u001b[39m=\u001b[39m []\n\u001b[1;32m----> 8\u001b[0m m[\u001b[39m1\u001b[39;49m:\u001b[39m1\u001b[39;49m] \u001b[39m=\u001b[39m solveset(f, x)\n\u001b[0;32m      9\u001b[0m \u001b[39mfor\u001b[39;00m i \u001b[39min\u001b[39;00m \u001b[39mrange\u001b[39m(\u001b[39m1\u001b[39m, \u001b[39mlen\u001b[39m(m)):\n\u001b[0;32m     10\u001b[0m     boo \u001b[39m=\u001b[39m is_increasing(f, Interval\u001b[39m.\u001b[39mopen(m[i\u001b[39m-\u001b[39m\u001b[39m1\u001b[39m], m[i]))\n",
      "\u001b[1;31mTypeError\u001b[0m: can only assign an iterable"
     ]
    }
   ],
   "source": [
    "#Определить промежутки, на котором f > 0\n",
    "#Определить промежутки, на котором f < 0\n",
    "\n",
    "m = [-oo, oo]\n",
    "\n",
    "incr_list = []\n",
    "decr_list = []\n",
    "m[1:1] = solveset(f, x)\n",
    "for i in range(1, len(m)):\n",
    "    boo = is_increasing(f, Interval.open(m[i-1], m[i]))\n",
    "    if boo:\n",
    "        incr_list.append(f'{m[i-1]}, {m[i]}')\n",
    "    else:\n",
    "        decr_list.append(f'{m[i-1]}, {m[i]}')\n",
    "\n",
    "# print(f'{0}{1}{2}{3}{0}', *h)\n",
    "\n",
    "print(\"f > 0:\", *incr_list, sep=\"\\n\")\n",
    "print(\"f < 0:\", *decr_list, sep=\"\\n\")"
   ]
  }
 ],
 "metadata": {
  "kernelspec": {
   "display_name": "Python 3.10.8 64-bit",
   "language": "python",
   "name": "python3"
  },
  "language_info": {
   "codemirror_mode": {
    "name": "ipython",
    "version": 3
   },
   "file_extension": ".py",
   "mimetype": "text/x-python",
   "name": "python",
   "nbconvert_exporter": "python",
   "pygments_lexer": "ipython3",
   "version": "3.10.8"
  },
  "orig_nbformat": 4,
  "vscode": {
   "interpreter": {
    "hash": "3a44219310b3fe0efd1c60351d749230618687a4d796e1ae11a8cfbe11b93cf7"
   }
  }
 },
 "nbformat": 4,
 "nbformat_minor": 2
}
